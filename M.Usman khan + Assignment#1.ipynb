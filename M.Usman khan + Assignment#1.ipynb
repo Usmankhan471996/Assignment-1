{
 "cells": [
  {
   "cell_type": "code",
   "execution_count": 10,
   "metadata": {},
   "outputs": [
    {
     "name": "stdout",
     "output_type": "stream",
     "text": [
      "What is the radius of a circle ?5\n",
      "Area of a Circle Is : 15.709999999999999\n"
     ]
    }
   ],
   "source": [
    "#1.\tWrite a Python program which accepts the radius of a circle from the user and compute the area\n",
    "radius = int(input(\"What is the radius of a circle ?\"))\n",
    "area = radius*3.142\n",
    "print(\"Area of a Circle Is : \" + str(area))"
   ]
  },
  {
   "cell_type": "code",
   "execution_count": 13,
   "metadata": {},
   "outputs": [
    {
     "name": "stdout",
     "output_type": "stream",
     "text": [
      "Enter the number-4\n",
      "the number is negative\n"
     ]
    }
   ],
   "source": [
    "#2.\tWrite a Python program to check if a number is positive, negative or zero\n",
    "number = int(input(\"Enter the number\"))\n",
    "if(number > 0):\n",
    "    print(\"The Number is positive\")\n",
    "elif(number == 0):\n",
    "    print(\"The number is zero\")\n",
    "else:\n",
    "    print(\"the number is negative\")"
   ]
  },
  {
   "cell_type": "code",
   "execution_count": 15,
   "metadata": {},
   "outputs": [
    {
     "name": "stdout",
     "output_type": "stream",
     "text": [
      "Enter First Number10\n",
      "Enter Second Number3\n",
      "Not Divisible\n"
     ]
    }
   ],
   "source": [
    "#3.\tWrite a Python function to check whether a number is completely divisible by another number. Accept two integer values form the user\n",
    "n1 = int(input(\"Enter First Number\"))\n",
    "n2 = int(input(\"Enter Second Number\"))\n",
    "if(n1%n2 == 0):\n",
    "    print(\"The Number is divisible\")\n",
    "else:\n",
    "    print(\"Not Divisible\")"
   ]
  },
  {
   "cell_type": "code",
   "execution_count": 17,
   "metadata": {},
   "outputs": [
    {
     "name": "stdout",
     "output_type": "stream",
     "text": [
      "Enter the value2\n",
      "The Answer is : 14\n"
     ]
    }
   ],
   "source": [
    "#4.\tWrite a Python program that accepts an integer (n) and computes the value of (n + nn + nnn)\n",
    "n1 = int(input(\"Enter the value\"))\n",
    "total = (n1 + n1*n1 + n1*n1*n1)\n",
    "print(\"The Answer is : \" + str(total))"
   ]
  },
  {
   "cell_type": "code",
   "execution_count": 21,
   "metadata": {},
   "outputs": [
    {
     "name": "stdout",
     "output_type": "stream",
     "text": [
      "7 days, 0:00:00\n"
     ]
    }
   ],
   "source": [
    "#5.\tWrite a Python program to calculate number of days between two dates\n",
    "from datetime import date\n",
    "date1 = date(2019,6,19)\n",
    "date2 = date(2019,6,12)\n",
    "date3 = date1 - date2\n",
    "print(date3)"
   ]
  },
  {
   "cell_type": "code",
   "execution_count": 23,
   "metadata": {},
   "outputs": [
    {
     "name": "stdout",
     "output_type": "stream",
     "text": [
      "Enter the radius3\n",
      "The Volume Is : 41.35778571733333\n"
     ]
    }
   ],
   "source": [
    "#6.\tWrite a Python program to get the volume of a sphere, please take the radius as input from user. V=4 / 3 πr3\n",
    "radius = int(input(\"Enter the radius\"))\n",
    "volume = (4*3.142**3)/3\n",
    "print(\"The Volume Is : \"+ str(volume))"
   ]
  },
  {
   "cell_type": "code",
   "execution_count": 3,
   "metadata": {},
   "outputs": [
    {
     "name": "stdout",
     "output_type": "stream",
     "text": [
      "Enter A Number : 18\n",
      "Result is : 1\n"
     ]
    }
   ],
   "source": [
    "#7.\tWrite a Python program to get the difference between a given number and 17, difference cannot be negative\n",
    "number = int(input(\"Enter A Number : \"))\n",
    "total = number - 17\n",
    "if(total >= 0):\n",
    "    print(\"Result is : \" + str(total))\n",
    "else:\n",
    "    print(\"Result is negative. Enter Number greater than 17\")"
   ]
  },
  {
   "cell_type": "code",
   "execution_count": null,
   "metadata": {},
   "outputs": [],
   "source": [
    "#8.\tWrite a Python program to get a new string from a given string where \"Is\" has been added to the front. If the given string already begins with \"Is\" then return the string unchanged\n",
    "\n"
   ]
  },
  {
   "cell_type": "code",
   "execution_count": 10,
   "metadata": {},
   "outputs": [
    {
     "name": "stdout",
     "output_type": "stream",
     "text": [
      "Enter String :Usman\n",
      "Enter Number Of Copies :4\n",
      "Usman  \n",
      "Usman  \n",
      "Usman  \n",
      "Usman  \n"
     ]
    }
   ],
   "source": [
    "#9.\tWrite a Python program to get a string which is n (non-negative integer) copies of a given string\n",
    "s = input(\"Enter String :\")\n",
    "n = int(input(\"Enter Number Of Copies :\"))\n",
    "z = 1\n",
    "while(z <= n):\n",
    "    print(s,' ')\n",
    "    z += 1\n"
   ]
  },
  {
   "cell_type": "code",
   "execution_count": 13,
   "metadata": {},
   "outputs": [
    {
     "name": "stdout",
     "output_type": "stream",
     "text": [
      "Enter A Number : 6\n",
      "Number is Even\n"
     ]
    }
   ],
   "source": [
    "#10.\tWrite a Python program to find whether a given number (accept from the user) is even or odd, print out an appropriate message to the user\n",
    "n = int(input(\"Enter A Number : \"))\n",
    "if(n % 2 == 0):\n",
    "    print(\"Number is Even\")\n",
    "else:\n",
    "    print(\"Number is Odd\")"
   ]
  },
  {
   "cell_type": "code",
   "execution_count": 17,
   "metadata": {},
   "outputs": [
    {
     "name": "stdout",
     "output_type": "stream",
     "text": [
      "Enter A Character : A\n",
      "Letter is Vowel\n"
     ]
    }
   ],
   "source": [
    "#11.\tWrite a Python program to test whether a passed letter is a vowel or not\n",
    "s = [\"a\",\"e\",\"i\",\"o\",\"u\"]\n",
    "v = input(\"Enter A Character : \")\n",
    "v2 = v.lower()\n",
    "if v2 in s:\n",
    "    print(\"Letter is Vowel\")\n",
    "else:\n",
    "    print(\"Letter is not Vowel\")"
   ]
  },
  {
   "cell_type": "code",
   "execution_count": 18,
   "metadata": {},
   "outputs": [
    {
     "name": "stdout",
     "output_type": "stream",
     "text": [
      "Enter height5\n",
      "Enter base5\n",
      "Area of triangle is : 12.5\n"
     ]
    }
   ],
   "source": [
    "#12.\tWrite a Python program that will accept the base and height of a triangle and compute the area \n",
    "h = int(input(\"Enter height : \"))\n",
    "b = int(input(\"Enter base : \"))\n",
    "a = (h*b)/2\n",
    "print(\"Area of triangle is : \"+str(a))"
   ]
  },
  {
   "cell_type": "code",
   "execution_count": 25,
   "metadata": {},
   "outputs": [
    {
     "name": "stdout",
     "output_type": "stream",
     "text": [
      "Enter An Integer10\n",
      "Enter An Integer5\n",
      "true\n"
     ]
    }
   ],
   "source": [
    "#13.\tWrite a Python program that will return true if the two given integer values are equal or their sum or difference is 5.\n",
    "a = int(input(\"Enter An Integer : \"))\n",
    "b = int(input(\"Enter An Integer : \"))\n",
    "sums = a + b\n",
    "dif = a - b\n",
    "if(sums == 5 or dif == 5):\n",
    "    print(\"true\")\n",
    "else:\n",
    "    print(\"false\")"
   ]
  },
  {
   "cell_type": "code",
   "execution_count": 26,
   "metadata": {},
   "outputs": [
    {
     "name": "stdout",
     "output_type": "stream",
     "text": [
      "Enter an integer2\n",
      "Enter an integer3\n",
      "25\n"
     ]
    }
   ],
   "source": [
    "#14.\tWrite a Python program to solve (x + y) * (x + y)\n",
    "x = int(input(\"Enter an integer : \"))\n",
    "y = int(input(\"Enter an integer : \"))\n",
    "formula = ((x + y) * (x + y))\n",
    "print(formula)"
   ]
  },
  {
   "cell_type": "code",
   "execution_count": 27,
   "metadata": {},
   "outputs": [
    {
     "name": "stdout",
     "output_type": "stream",
     "text": [
      "Enter principal amount: 10\n",
      "Enter rate: 3\n",
      "Enter time (year): 2\n"
     ]
    },
    {
     "data": {
      "text/plain": [
       "70.0"
      ]
     },
     "execution_count": 27,
     "metadata": {},
     "output_type": "execute_result"
    }
   ],
   "source": [
    "#15.\tWrite a Python program to compute the future value of a specified principal amount, rate of interest, and a number of years.\n",
    "p = float(input(\"Enter principal amount: \"))\n",
    "r = float(input(\"Enter rate: \")) *100\n",
    "t = float(input(\"Enter time (year): \"))\n",
    "\n",
    "def cal_interest(p,r,t):\n",
    "    r=r/100\n",
    "    return p*(1+(r*t))\n",
    "\n",
    "cal_interest(p,r,t)\n"
   ]
  },
  {
   "cell_type": "code",
   "execution_count": 28,
   "metadata": {},
   "outputs": [
    {
     "name": "stdout",
     "output_type": "stream",
     "text": [
      "Enter number x1: 5\n",
      "Enter number x2: 4\n",
      "Enter number y1: 3\n",
      "Enter number y2: 2\n",
      "distance between points is: 2.8284271247461903\n"
     ]
    }
   ],
   "source": [
    "#16.\tWrite a Python program to compute the distance between the points (x1, y1) and (x2, y2). \n",
    "x1=int(input(\"Enter number x1: \"))\n",
    "x2=int(input(\"Enter number x2: \"))\n",
    "y1=int(input(\"Enter number y1: \"))\n",
    "y2=int(input(\"Enter number y2: \"))\n",
    "\n",
    "x = (y1-x1)**2\n",
    "y = (y2-x2)**2\n",
    "\n",
    "cal_eu=(x+y)**.5\n",
    "\n",
    "print(\"distance between points is: \" + str(cal_eu))"
   ]
  },
  {
   "cell_type": "code",
   "execution_count": 30,
   "metadata": {},
   "outputs": [
    {
     "name": "stdout",
     "output_type": "stream",
     "text": [
      "Enter height in feets6\n",
      "Enter height in inches72\n",
      "Height in cms is : 182.88cms. Height in inches is : 182.88 cms\n"
     ]
    }
   ],
   "source": [
    "#17.\tWrite a Python program to convert height (in feet and inches) to centimetres.\n",
    "h = int(input(\"Enter height in feets\"))\n",
    "i = int(input(\"Enter height in inches\"))\n",
    "h1 = h * 30.48\n",
    "i1 = i * 2.54\n",
    "print(\"Height in cms is : \" + str(h1) + \"cms. Height in inches is : \" + str(i1) + \" cms\")"
   ]
  },
  {
   "cell_type": "code",
   "execution_count": 33,
   "metadata": {},
   "outputs": [
    {
     "name": "stdout",
     "output_type": "stream",
     "text": [
      "Enter perpendicular5\n",
      "Enter base6\n",
      "7.810249675906654\n"
     ]
    }
   ],
   "source": [
    "#18.\tWrite a Python program to calculate the hypotenuse of a right angled triangle\n",
    "import math \n",
    "a = int(input(\"Enter perpendicular\"))\n",
    "b = int(input(\"Enter base\"))\n",
    "c2 = ((a ** 2) + (b ** 2))\n",
    "c = math.sqrt(c2)\n",
    "print(c)"
   ]
  },
  {
   "cell_type": "code",
   "execution_count": 34,
   "metadata": {},
   "outputs": [
    {
     "name": "stdout",
     "output_type": "stream",
     "text": [
      "Enter Distance in feets5\n",
      "Inches : 60 Yard : 15 Mile : 26400\n"
     ]
    }
   ],
   "source": [
    "#19.\tWrite a Python program to convert the distance (in feet)\n",
    "#to inches, yards, and miles. 1 feet = 12 inches, 3 feet = 1 yard, 5280 feet = 1 mile\n",
    "b = int(input(\"Enter Distance in feets\"))\n",
    "i = b * 12\n",
    "y = b * 3\n",
    "m = b * 5280\n",
    "print(\"Inches : \" + str(i) + \" Yard : \" + str(y) + \" Mile : \" + str(m))"
   ]
  },
  {
   "cell_type": "code",
   "execution_count": null,
   "metadata": {},
   "outputs": [],
   "source": [
    "#20.\tWrite a Python program to convert all units of time into seconds.\n",
    "hours = int(input(\"Enter Hours\"))\n",
    "h = hours * 3600\n",
    "print(\"Total Seconds : \" + str(h) + \" seconds\")"
   ]
  },
  {
   "cell_type": "code",
   "execution_count": null,
   "metadata": {},
   "outputs": [],
   "source": [
    "#21.\tWrite a Python program to convert seconds to day, hour, minutes and seconds.\n",
    "time = float(input(\"Input time in seconds: \"))\n",
    "day = time // (24 * 3600)\n",
    "time = time % (24 * 3600)\n",
    "hour = time // 3600\n",
    "time %= 3600\n",
    "minutes = time // 60\n",
    "time %= 60\n",
    "seconds = time\n",
    "print(\"d:h:m:s-> %d:%d:%d:%d\" % (day, hour, minutes, seconds))"
   ]
  },
  {
   "cell_type": "code",
   "execution_count": null,
   "metadata": {},
   "outputs": [],
   "source": [
    "#22.\tWrite a Python program to calculate body mass index\n",
    "\n",
    "h=int(input(\"Enter height in cm: \"))\n",
    "w=int(input(\"Enter Kg: \"))\n",
    "\n",
    "h= (h/100)**2\n",
    "\n",
    "bmi= w/h\n",
    "\n",
    "print(\"BMI is :\"+str(bmi))"
   ]
  },
  {
   "cell_type": "code",
   "execution_count": null,
   "metadata": {},
   "outputs": [],
   "source": [
    "#23.\tWrite a Python program to convert temperatures to and from Celsius, Fahrenheit\n",
    "celsius = 37.5\n",
    "\n",
    "# calculate fahrenheit\n",
    "fahrenheit = (celsius * 1.8) + 32\n",
    "print('%0.1f degree Celsius is equal to %0.1f degree Fahrenheit' %(celsius,fahrenheit))"
   ]
  }
 ],
 "metadata": {
  "kernelspec": {
   "display_name": "Python 3",
   "language": "python",
   "name": "python3"
  },
  "language_info": {
   "codemirror_mode": {
    "name": "ipython",
    "version": 3
   },
   "file_extension": ".py",
   "mimetype": "text/x-python",
   "name": "python",
   "nbconvert_exporter": "python",
   "pygments_lexer": "ipython3",
   "version": "3.7.3"
  }
 },
 "nbformat": 4,
 "nbformat_minor": 2
}
